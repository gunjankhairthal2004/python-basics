{
  "nbformat": 4,
  "nbformat_minor": 0,
  "metadata": {
    "colab": {
      "provenance": []
    },
    "kernelspec": {
      "name": "python3",
      "display_name": "Python 3"
    },
    "language_info": {
      "name": "python"
    }
  },
  "cells": [
    {
      "cell_type": "markdown",
      "source": [
        "# answer 1\n",
        "Python is a powerful object oriented programming language.\n",
        "It is a very high level programming language yet as powerful as many other middle level language like C,C++,JAVA etc.\n",
        "It is popular because\n",
        "1) easy to use\n",
        "2)expressive language\n",
        "3)interpreted language\n",
        "4)its completeness\n",
        "5)cross-platform language\n"
      ],
      "metadata": {
        "id": "1nzGKLqBmf62"
      }
    },
    {
      "cell_type": "markdown",
      "source": [
        "# answer 2\n",
        "This language processor converts a (HLM)program into machine language by converting and executing it line by line . If there is any error in any line it reports it at the same time and program execution cannot resume until the error is reatified ."
      ],
      "metadata": {
        "id": "xnF-XMtpmf6D"
      }
    },
    {
      "cell_type": "markdown",
      "source": [
        "# answer 3\n",
        "Keywords are the words that convey a special meaning to the language complier / interpreter . These are reserved for special purpose .\n",
        "      eg: false , else , none etc  "
      ],
      "metadata": {
        "id": "003UZxYFmfv_"
      }
    },
    {
      "cell_type": "markdown",
      "source": [
        "# answer 4\n",
        "No keywords can not be used as variable names because keywords are reserved word that have special meanings ."
      ],
      "metadata": {
        "id": "qx89ji5ImfvM"
      }
    },
    {
      "cell_type": "markdown",
      "source": [
        "# answer 5\n",
        "Mutability in python are those values that can be changed in place .\n",
        "these are : lists , dictionaries , sets ."
      ],
      "metadata": {
        "id": "BAZBwHt9mfqU"
      }
    },
    {
      "cell_type": "markdown",
      "source": [
        "# answer 6\n",
        "Lists are mutable because the values can be added , removed or changed but in tuples values can not be added , removed or changed ."
      ],
      "metadata": {
        "id": "uypqCPxXmfpf"
      }
    },
    {
      "cell_type": "markdown",
      "source": [
        "# answer 7\n",
        "== is a relational operators that shows the relationships that values can have with one another .\n",
        "Is operators returns true if both operands refer to the same object and false otherwise .\n"
      ],
      "metadata": {
        "id": "ZAyP7_27mfbr"
      }
    },
    {
      "cell_type": "markdown",
      "source": [
        "# answer 8\n",
        "Logical operators are also the boolean logical operators that refer to the ways these relationships among values can be connected .\n",
        "      eg : or , and , not\n",
        "      "
      ],
      "metadata": {
        "id": "2CbDHhXfme6g"
      }
    },
    {
      "cell_type": "markdown",
      "source": [
        "#answer 9\n",
        "In expression with mixed types, python internally changes the data type of some operands so that all operands have same data type . This type of conversion is automatic . It is also known as explicit type conversion.\n",
        "\n",
        "\n"
      ],
      "metadata": {
        "id": "BeuPM5K1zzib"
      }
    },
    {
      "cell_type": "markdown",
      "source": [
        "#answer 10\n",
        "Implicit type casting is performed automatically by the python whereas explicit type casting is performed by the programmer in the python ."
      ],
      "metadata": {
        "id": "HgQJrGxU1FXa"
      }
    },
    {
      "cell_type": "markdown",
      "source": [
        "# answer 11\n",
        "If the conditions evaluates to true a course of action is followed a statement or set of statements is executed . otherwise (if the condition evaluates to false ) the course of action is ignored .  "
      ],
      "metadata": {
        "id": "ANKUBA6o8K5b"
      }
    },
    {
      "cell_type": "markdown",
      "source": [
        "# answer 12\n",
        " Sometimes you need to check another condition of if values to false that's why you want to check a condition when control reaches else part condition test in the form of else .\n",
        "  "
      ],
      "metadata": {
        "id": "RbrKleG0tbyJ"
      }
    },
    {
      "cell_type": "markdown",
      "source": [
        "# answer 13\n",
        "The loops that repeat a certain number of times python for loop is a counting loop .\n",
        "The loops that repeat until a certain thing happens they keep repeating as long as some condition is true python's while loop is conditional loops ."
      ],
      "metadata": {
        "id": "Ys7Za2uotbv7"
      }
    },
    {
      "cell_type": "markdown",
      "source": [
        "# answer 1"
      ],
      "metadata": {
        "id": "1pHsT-HWJEL1"
      }
    },
    {
      "cell_type": "code",
      "execution_count": null,
      "metadata": {
        "colab": {
          "base_uri": "https://localhost:8080/"
        },
        "id": "YHhTeluGLJlS",
        "outputId": "4a921a61-c8e4-4c1a-c548-9ab3a5b80cc3"
      },
      "outputs": [
        {
          "output_type": "stream",
          "name": "stdout",
          "text": [
            "hello world\n"
          ]
        }
      ],
      "source": [
        "print(\"hello world\")\n"
      ]
    },
    {
      "cell_type": "markdown",
      "source": [
        "# answer 2"
      ],
      "metadata": {
        "id": "P4qOIaEzN5Py"
      }
    },
    {
      "cell_type": "code",
      "source": [
        "print(\"name=gunjan\")\n",
        "print(\"age=20\")"
      ],
      "metadata": {
        "colab": {
          "base_uri": "https://localhost:8080/"
        },
        "id": "aiwGCK63LaxC",
        "outputId": "1b525c05-e28c-4305-a6d6-ab35b583248c"
      },
      "execution_count": null,
      "outputs": [
        {
          "output_type": "stream",
          "name": "stdout",
          "text": [
            "name=gunjan\n",
            "age=20\n"
          ]
        }
      ]
    },
    {
      "cell_type": "markdown",
      "source": [
        "# answer 5\n",
        "\n",
        "\n"
      ],
      "metadata": {
        "id": "afJ833atvRih"
      }
    },
    {
      "cell_type": "code",
      "source": [
        "a=[1,2,3,4,5]\n",
        "a[3]=10\n",
        "#the value of index 3 has been changed\n",
        "b=(1,2,\"manoj\",\"apple\")\n",
        "#values will not be change because tuples are immutable"
      ],
      "metadata": {
        "id": "1_C4_oguM8EW"
      },
      "execution_count": null,
      "outputs": []
    },
    {
      "cell_type": "markdown",
      "source": [
        "# answer 6"
      ],
      "metadata": {
        "id": "ZwUBebj2v20L"
      }
    },
    {
      "cell_type": "code",
      "source": [
        "a=[1,2,3,4,5]\n",
        "a[3]=10\n",
        "#mutable\n",
        "#the value of index 3 has been changed\n",
        "b=(1,2,\"manoj\",\"apple\")\n",
        "\n",
        "#values will not be change because tuples are immutable"
      ],
      "metadata": {
        "id": "t6QleMk2PhiQ"
      },
      "execution_count": null,
      "outputs": []
    },
    {
      "cell_type": "markdown",
      "source": [
        "# answer 7"
      ],
      "metadata": {
        "id": "Qpsc1UZyv-_g"
      }
    },
    {
      "cell_type": "code",
      "source": [
        "a = int(input(\"enter a\"))\n",
        "b = int(input(\"enter b\"))\n",
        "print (\"a+b = \", a+b)\n",
        "\n",
        "\n"
      ],
      "metadata": {
        "id": "IeFE-jxfTN0j",
        "colab": {
          "base_uri": "https://localhost:8080/"
        },
        "outputId": "c5a52b31-2a38-403e-cea4-d42aec33b1fd"
      },
      "execution_count": null,
      "outputs": [
        {
          "output_type": "stream",
          "name": "stdout",
          "text": [
            "enter a5\n",
            "enter b2\n",
            "a+b =  7\n"
          ]
        }
      ]
    },
    {
      "cell_type": "markdown",
      "source": [
        "# answer 8"
      ],
      "metadata": {
        "id": "6V9mzwFGwEDd"
      }
    },
    {
      "cell_type": "code",
      "source": [
        "a = int(input(\"enter a\"))\n",
        "b = int(input(\"enter b\"))\n",
        "#logical and operator\n",
        "print(a>2 and b<10)"
      ],
      "metadata": {
        "colab": {
          "base_uri": "https://localhost:8080/"
        },
        "id": "3_MaPpTCGKN_",
        "outputId": "54d5efeb-005c-42fb-f249-5f0f139cbdce"
      },
      "execution_count": null,
      "outputs": [
        {
          "output_type": "stream",
          "name": "stdout",
          "text": [
            "enter a4\n",
            "enter b11\n",
            "False\n"
          ]
        }
      ]
    },
    {
      "cell_type": "markdown",
      "source": [
        "# answer 9"
      ],
      "metadata": {
        "id": "1Tgiy0tfwMeQ"
      }
    },
    {
      "cell_type": "code",
      "source": [
        "n = bool (input(\"Enter a value: \"))\n",
        "\n",
        "# Convert to integer\n",
        "i = int(n)\n",
        "print(\"As Integer:\", i)\n",
        "\n",
        "# Convert to float\n",
        "f = float(n)\n",
        "print(\"As Float:\", f)\n",
        "\n",
        "# Convert to boolean\n",
        "b = bool(n)\n",
        "print(\"As Boolean:\", b)"
      ],
      "metadata": {
        "colab": {
          "base_uri": "https://localhost:8080/"
        },
        "id": "yNfvAnHIKEZ_",
        "outputId": "f6945cc6-2cd9-4e42-c749-c6b091ca3548"
      },
      "execution_count": null,
      "outputs": [
        {
          "output_type": "stream",
          "name": "stdout",
          "text": [
            "Enter a value: 0\n",
            "As Integer: 1\n",
            "As Float: 1.0\n",
            "As Boolean: True\n"
          ]
        }
      ]
    },
    {
      "cell_type": "markdown",
      "source": [
        "# answer 10"
      ],
      "metadata": {
        "id": "IcOkBMcFwTkL"
      }
    },
    {
      "cell_type": "code",
      "source": [
        "marks = [10,15,25,40]\n",
        "float_marks = [float(x)for x in marks]\n",
        "print (float_marks)\n",
        "\n"
      ],
      "metadata": {
        "id": "fnSQ-KszVlVe",
        "colab": {
          "base_uri": "https://localhost:8080/"
        },
        "outputId": "69eef3a3-d9ae-4b09-efd2-0d58937432e5"
      },
      "execution_count": null,
      "outputs": [
        {
          "output_type": "stream",
          "name": "stdout",
          "text": [
            "[10.0, 15.0, 25.0, 40.0]\n"
          ]
        }
      ]
    },
    {
      "cell_type": "markdown",
      "source": [
        "# answer 11"
      ],
      "metadata": {
        "id": "150_tmLCwob_"
      }
    },
    {
      "cell_type": "code",
      "source": [
        "a = int(input(\"enter a number\"))\n",
        "if(a>0):\n",
        " print(\"a is positive\")\n",
        "elif(a<0):\n",
        " print(\"a is negative\")\n",
        "else:\n",
        " print(\"a is equal to zero\")\n"
      ],
      "metadata": {
        "id": "PC2cqpVmSiNQ",
        "colab": {
          "base_uri": "https://localhost:8080/"
        },
        "outputId": "41a1db30-c2c6-4e26-c597-3a442a0e4ac6"
      },
      "execution_count": null,
      "outputs": [
        {
          "output_type": "stream",
          "name": "stdout",
          "text": [
            "enter a number0\n",
            "a is equal to zero\n"
          ]
        }
      ]
    },
    {
      "cell_type": "markdown",
      "source": [
        "# answer 12\n"
      ],
      "metadata": {
        "id": "c3n9OIldwv4C"
      }
    },
    {
      "cell_type": "code",
      "source": [
        "for a in range(1,11) :\n",
        " print(a)"
      ],
      "metadata": {
        "id": "qFDHMnD-XiwF",
        "colab": {
          "base_uri": "https://localhost:8080/"
        },
        "outputId": "218e804e-6c58-4a6b-af5c-cda57a4fcbe4"
      },
      "execution_count": null,
      "outputs": [
        {
          "output_type": "stream",
          "name": "stdout",
          "text": [
            "1\n",
            "2\n",
            "3\n",
            "4\n",
            "5\n",
            "6\n",
            "7\n",
            "8\n",
            "9\n",
            "10\n"
          ]
        }
      ]
    },
    {
      "cell_type": "markdown",
      "source": [
        "# answer 13\n"
      ],
      "metadata": {
        "id": "ISscqUkew2yt"
      }
    },
    {
      "cell_type": "code",
      "source": [
        "sum = 0\n",
        "i = 0\n",
        "while(i<=50):\n",
        "  sum = sum+i\n",
        "  i= i+2\n",
        "\n",
        "print(sum)\n"
      ],
      "metadata": {
        "colab": {
          "base_uri": "https://localhost:8080/"
        },
        "id": "CviNvBPX8Roq",
        "outputId": "fdb72c3c-9223-460b-84a7-a67aa82ea1b2"
      },
      "execution_count": null,
      "outputs": [
        {
          "output_type": "stream",
          "name": "stdout",
          "text": [
            "650\n"
          ]
        }
      ]
    },
    {
      "cell_type": "markdown",
      "source": [
        "#answer 14"
      ],
      "metadata": {
        "id": "PXCCdAtbpl9z"
      }
    },
    {
      "cell_type": "code",
      "source": [
        "\n",
        "string = input(\"Enter a string: \")\n",
        "r = \"\"\n",
        "i = len(string) - 1\n",
        "while i >= 0:\n",
        "    r = r+string[i]\n",
        "    i = i-1\n",
        "print(\"Reversed string:\", r)"
      ],
      "metadata": {
        "id": "XbG3F6viGV_s",
        "colab": {
          "base_uri": "https://localhost:8080/"
        },
        "outputId": "5c7974bc-41f3-449a-b7bc-66df064fd66b"
      },
      "execution_count": null,
      "outputs": [
        {
          "output_type": "stream",
          "name": "stdout",
          "text": [
            "Enter a string: gunjan\n",
            "Reversed string: najnug\n"
          ]
        }
      ]
    },
    {
      "cell_type": "code",
      "source": [
        "#answer 15"
      ],
      "metadata": {
        "id": "Qnzfuod8s8b0"
      },
      "execution_count": null,
      "outputs": []
    },
    {
      "cell_type": "code",
      "source": [
        "\n",
        "num = int(input(\"Enter a number: \"))\n",
        "factorial = 1\n",
        "i = 1\n",
        "while i <= num:\n",
        "    factorial = factorial*i\n",
        "    i += 1\n",
        "print(\"Factorial of\", num, \"is\", factorial)"
      ],
      "metadata": {
        "colab": {
          "base_uri": "https://localhost:8080/"
        },
        "id": "gFIVNdFMs5cH",
        "outputId": "165f2e4e-42d9-4c28-ee38-111fa974cbd4"
      },
      "execution_count": null,
      "outputs": [
        {
          "output_type": "stream",
          "name": "stdout",
          "text": [
            "Enter a number: 4\n",
            "Factorial of 4 is 24\n"
          ]
        }
      ]
    }
  ]
}